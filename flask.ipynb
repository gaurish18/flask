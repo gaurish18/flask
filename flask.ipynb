{
 "cells": [
  {
   "cell_type": "markdown",
   "id": "d23111b7-25e7-44d7-947e-2cbd5e4d2891",
   "metadata": {},
   "source": [
    " Flask is a popular Python web framework. Flask is not a tool specifically for data science, but it's important for data scientists to understand it because it can be used to create web applications for showcasing data analysis and visualization results."
   ]
  },
  {
   "cell_type": "markdown",
   "id": "707043f8-1279-4a43-8060-2b879eed8389",
   "metadata": {},
   "source": [
    "Flask Framework:\n",
    "\n",
    "Flask is a micro web framework for Python. It was developed by Armin Ronacher and is often considered a lightweight and minimalistic framework. Flask provides the tools and libraries to build web applications, but it leaves a lot of decisions to the developer, which can be an advantage for those who want flexibility and simplicity in their projects."
   ]
  },
  {
   "cell_type": "markdown",
   "id": "88c2ac55-c36d-4fb8-ac5b-284f3c440fb9",
   "metadata": {},
   "source": [
    "\n",
    "Advantages of Flask Framework:\n",
    "\n",
    "Simplicity: Flask is known for its simplicity and minimalism. It doesn't impose a lot of structure on your project, which makes it a good choice for small to medium-sized applications. This simplicity is particularly helpful for data scientists who may want to quickly create web interfaces for their data analysis.\n",
    "\n",
    "Extensibility: While Flask is minimalistic, it also allows you to add extensions and libraries as needed. This means you can customize your web application by adding only the features you require, making it lightweight and efficient.\n",
    "\n",
    "Werkzeug and Jinja2 Integration: Flask is built on top of the Werkzeug WSGI (Web Server Gateway Interface) toolkit and uses Jinja2 templating, which are powerful and widely used tools for web development in Python. This ensures that Flask is well-supported and can handle a wide range of web-related tasks.\n",
    "\n",
    "Community and Documentation: Flask has a strong and active community of developers, which means you can find a lot of resources, documentation, and third-party extensions to help you with your project. This is particularly useful for data scientists who may not be experienced web developers.\n",
    "\n",
    "Flexibility: Flask doesn't enforce a specific way to structure your application, allowing you to organize your code as you see fit. This is advantageous for data scientists who may have unique requirements for how they want to present their analysis and visualizations.\n",
    "\n",
    "Built-in Development Server: Flask comes with a built-in development server, which makes it easy to start developing and testing your web applications without the need for external server configurations.\n",
    "\n",
    "Ideal for Prototyping: Data scientists can use Flask for quickly prototyping web applications to visualize data or share their research findings with stakeholders.\n",
    "\n",
    "RESTful API Development: Flask is an excellent choice for creating RESTful APIs. Data scientists often use APIs to serve machine learning models, data analysis results, or data storage solutions.\n",
    "\n",
    "Pythonic: Flask is written in Python, and it follows Pythonic principles, making it more accessible to those familiar with the Python programming language."
   ]
  },
  {
   "cell_type": "code",
   "execution_count": null,
   "id": "4f6b9474-1c35-4b69-ace2-8cd231feaa60",
   "metadata": {},
   "outputs": [],
   "source": []
  },
  {
   "cell_type": "code",
   "execution_count": 1,
   "id": "e6a16f25-699b-4922-9f45-20e53ed69737",
   "metadata": {},
   "outputs": [
    {
     "name": "stdout",
     "output_type": "stream",
     "text": [
      "Collecting Flask\n",
      "  Downloading flask-3.0.0-py3-none-any.whl (99 kB)\n",
      "\u001b[2K     \u001b[90m━━━━━━━━━━━━━━━━━━━━━━━━━━━━━━━━━━━━━━━━\u001b[0m \u001b[32m99.7/99.7 kB\u001b[0m \u001b[31m6.9 MB/s\u001b[0m eta \u001b[36m0:00:00\u001b[0m\n",
      "\u001b[?25hCollecting itsdangerous>=2.1.2\n",
      "  Downloading itsdangerous-2.1.2-py3-none-any.whl (15 kB)\n",
      "Collecting blinker>=1.6.2\n",
      "  Downloading blinker-1.6.3-py3-none-any.whl (13 kB)\n",
      "Requirement already satisfied: Jinja2>=3.1.2 in /opt/conda/lib/python3.10/site-packages (from Flask) (3.1.2)\n",
      "Collecting Werkzeug>=3.0.0\n",
      "  Downloading werkzeug-3.0.1-py3-none-any.whl (226 kB)\n",
      "\u001b[2K     \u001b[90m━━━━━━━━━━━━━━━━━━━━━━━━━━━━━━━━━━━━━━\u001b[0m \u001b[32m226.7/226.7 kB\u001b[0m \u001b[31m22.8 MB/s\u001b[0m eta \u001b[36m0:00:00\u001b[0m\n",
      "\u001b[?25hRequirement already satisfied: click>=8.1.3 in /opt/conda/lib/python3.10/site-packages (from Flask) (8.1.3)\n",
      "Requirement already satisfied: MarkupSafe>=2.0 in /opt/conda/lib/python3.10/site-packages (from Jinja2>=3.1.2->Flask) (2.1.1)\n",
      "Installing collected packages: Werkzeug, itsdangerous, blinker, Flask\n",
      "  Attempting uninstall: blinker\n",
      "    Found existing installation: blinker 1.5\n",
      "    Uninstalling blinker-1.5:\n",
      "      Successfully uninstalled blinker-1.5\n",
      "Successfully installed Flask-3.0.0 Werkzeug-3.0.1 blinker-1.6.3 itsdangerous-2.1.2\n",
      "Note: you may need to restart the kernel to use updated packages.\n"
     ]
    }
   ],
   "source": [
    "pip install Flask"
   ]
  },
  {
   "cell_type": "code",
   "execution_count": null,
   "id": "1a3b329a-bf65-4386-bf0e-70eeb603fe53",
   "metadata": {},
   "outputs": [
    {
     "name": "stdout",
     "output_type": "stream",
     "text": [
      " * Serving Flask app '__main__'\n",
      " * Debug mode: off\n"
     ]
    },
    {
     "name": "stderr",
     "output_type": "stream",
     "text": [
      "WARNING: This is a development server. Do not use it in a production deployment. Use a production WSGI server instead.\n",
      " * Running on http://127.0.0.1:5000\n",
      "Press CTRL+C to quit\n"
     ]
    }
   ],
   "source": [
    "from flask import Flask\n",
    "\n",
    "app = Flask(__name__)\n",
    "\n",
    "@app.route('/')\n",
    "def hello_world():\n",
    "    return 'Hello World!!'\n",
    "\n",
    "if __name__ == '__main__':\n",
    "    app.run()\n"
   ]
  },
  {
   "cell_type": "markdown",
   "id": "b48f47a0-58f5-4633-8fe8-e046fbb8066a",
   "metadata": {},
   "source": [
    "Save this file in your Jupyter Notebook environment. Then, open a terminal or command prompt, navigate to the directory where app.py is located, and run the following command:"
   ]
  },
  {
   "cell_type": "markdown",
   "id": "f624b7ec-b0df-4c89-bd4f-8b3a9e97578f",
   "metadata": {},
   "source": [
    " * Running on http://127.0.0.1:5000/ (Press CTRL+C to quit)\n"
   ]
  },
  {
   "cell_type": "code",
   "execution_count": null,
   "id": "3a21bf77-9d10-4696-ab94-fe8ae33428ea",
   "metadata": {},
   "outputs": [],
   "source": [
    "You should see output similar to above"
   ]
  },
  {
   "cell_type": "markdown",
   "id": "ca392518-127b-4bc9-916d-e1a38f7fea48",
   "metadata": {},
   "source": [
    "This means the Flask app is running locally. Now, open your web browser and visit http://127.0.0.1:5000/, or http://localhost:5000/, and you should see \"Hello World!!\" displayed in your browser.\n",
    "\n",
    "You can take a screenshot of this output in your local environment and attach it to your Jupyter Notebook.\n",
    "\n",
    "Please note that you might need to install Flask in your Jupyter Notebook environment as well if it's not already installed there. You can do this by running !pip install Flask in a Jupyter Notebook cell."
   ]
  },
  {
   "cell_type": "code",
   "execution_count": null,
   "id": "fed9ae6a-feae-47a0-b8f9-56b95c7e5fcc",
   "metadata": {},
   "outputs": [],
   "source": []
  },
  {
   "cell_type": "markdown",
   "id": "df2d58ec-4382-4abf-8165-5e6c03ec4efb",
   "metadata": {},
   "source": [
    "In Flask, routing is the mechanism that defines how URLs (Uniform Resource Locators) are mapped to specific functions within your web application. App routing in Flask allows you to specify which function should be called for a particular URL, enabling you to create different \"routes\" within your application that correspond to different pages or actions."
   ]
  },
  {
   "cell_type": "code",
   "execution_count": null,
   "id": "02559537-8584-4fe3-ad96-d944cf990fd6",
   "metadata": {},
   "outputs": [],
   "source": [
    "from flask import Flask\n",
    "\n",
    "app = Flask(__name__)\n",
    "\n",
    "@app.route('/')\n",
    "def index():\n",
    "    return 'This is the homepage.'\n",
    "\n",
    "@app.route('/about')\n",
    "def about():\n",
    "    return 'This is the about page.'\n",
    "\n",
    "if __name__ == '__main__':\n",
    "    app.run()\n"
   ]
  },
  {
   "cell_type": "markdown",
   "id": "178e63f2-f998-4a76-bd70-8323d44a858e",
   "metadata": {},
   "source": [
    "In the code snippet above, two routes are defined using the @app.route() decorator:\n",
    "\n",
    "The / route is associated with the index function. When a user visits the root URL (http://example.com/ or http://localhost:5000/ in your local development server), the index function is executed, and the message \"This is the homepage.\" is returned.\n",
    "\n",
    "The /about route is associated with the about function. When a user visits the /about URL (http://example.com/about or http://localhost:5000/about), the about function is executed, and the message \"This is the about page.\" is returned."
   ]
  },
  {
   "cell_type": "markdown",
   "id": "f2e32489-bab6-4209-a298-3dbf81b70fab",
   "metadata": {},
   "source": [
    "Why do we use app routes in Flask?\n",
    "\n",
    "URL Routing: App routes in Flask define the structure and behavior of your web application. They enable you to map specific URLs to functions or views that should handle the requests associated with those URLs. This makes it easy to organize your application and provide different content or actions for different URLs.\n",
    "\n",
    "Modularity: Routing allows you to build web applications in a modular and structured way. Each route and its associated function can represent a different part of your application or a unique page, making it easier to manage and maintain your code.\n",
    "\n",
    "Dynamic Content: You can use route parameters to create dynamic URLs, allowing users to access specific resources or pages based on variables passed in the URL. For example, you can define routes like /user/<username> to display user-specific content.\n",
    "\n",
    "RESTful APIs: For building RESTful APIs, app routes in Flask are crucial. You can map different HTTP methods (e.g., GET, POST, PUT, DELETE) to specific routes, making it easy to handle API requests and define endpoints for your application.\n",
    "\n",
    "Request Handling: Routes define how incoming HTTP requests are processed. By using app routes, you specify which function should be executed when a particular URL is accessed, enabling you to control the response and behavior of your web application.\n",
    "\n",
    "In summary, app routing in Flask is a fundamental feature that allows you to map URLs to functions, making it possible to create organized, modular, and dynamic web applications or APIs. It's a key concept in web development with Flask, providing control over the behavior and content of your application based on the requested URLs.\n"
   ]
  },
  {
   "cell_type": "code",
   "execution_count": null,
   "id": "4cc869c3-c08e-48f6-acd0-17944ae6b966",
   "metadata": {},
   "outputs": [],
   "source": []
  },
  {
   "cell_type": "code",
   "execution_count": null,
   "id": "3ffb3fed-a673-40c5-b97e-852f572ac1a6",
   "metadata": {},
   "outputs": [],
   "source": [
    "from flask import Flask\n",
    "\n",
    "app = Flask(__name__)\n",
    "\n",
    "@app.route('/')\n",
    "def index():\n",
    "    return '''\n",
    "    Company Name: ABC Corporation\n",
    "    Location: India\n",
    "    Contact Detail: 999-999-9999\n",
    "    '''\n",
    "\n",
    "@app.route('/welcome')\n",
    "def welcome():\n",
    "    return 'Welcome to ABC Corporation'\n",
    "\n",
    "if __name__ == '__main__':\n",
    "    app.run()\n"
   ]
  },
  {
   "cell_type": "markdown",
   "id": "6e2ddfb3-77ff-44ce-91c7-c1a024192578",
   "metadata": {},
   "source": [
    "Save this file in your Jupyter Notebook environment. Then, open a terminal or command prompt, navigate to the directory where app.py is located, and run the following command:"
   ]
  },
  {
   "cell_type": "markdown",
   "id": "53cf325f-b732-402d-887d-4f957828e2ba",
   "metadata": {},
   "source": [
    "python app.py\n"
   ]
  },
  {
   "cell_type": "markdown",
   "id": "63aaacbb-1f41-44a0-9434-0729d1db3bf0",
   "metadata": {},
   "source": [
    "This will start the Flask development server. You should see output similar to the following:"
   ]
  },
  {
   "cell_type": "markdown",
   "id": "203ae913-ca47-485e-95ef-fb13feb847fa",
   "metadata": {},
   "source": [
    " * Running on http://127.0.0.1:5000/ (Press CTRL+C to quit)\n"
   ]
  },
  {
   "cell_type": "markdown",
   "id": "fc3089cf-e8c7-48ac-8ab6-22170b3c68bd",
   "metadata": {},
   "source": [
    "Now, open your web browser and visit http://127.0.0.1:5000/ and http://127.0.0.1:5000/welcome to see the output of the routes. You can take screenshots of these pages in your local environment and attach them to your Jupyter Notebook.\n",
    "\n",
    "Remember to stop the Flask development server by pressing CTRL+C in the terminal when you are done taking screenshots or testing the application"
   ]
  },
  {
   "cell_type": "code",
   "execution_count": null,
   "id": "5a3cb832-b93c-4659-9d86-fe4c84407456",
   "metadata": {},
   "outputs": [],
   "source": []
  },
  {
   "cell_type": "code",
   "execution_count": null,
   "id": "5613a658-eeea-48f8-913f-649350a97c6d",
   "metadata": {},
   "outputs": [],
   "source": []
  }
 ],
 "metadata": {
  "kernelspec": {
   "display_name": "Python 3 (ipykernel)",
   "language": "python",
   "name": "python3"
  },
  "language_info": {
   "codemirror_mode": {
    "name": "ipython",
    "version": 3
   },
   "file_extension": ".py",
   "mimetype": "text/x-python",
   "name": "python",
   "nbconvert_exporter": "python",
   "pygments_lexer": "ipython3",
   "version": "3.10.8"
  }
 },
 "nbformat": 4,
 "nbformat_minor": 5
}
